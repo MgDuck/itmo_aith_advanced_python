{
 "cells": [
  {
   "cell_type": "markdown",
   "metadata": {},
   "source": [
    "# Инференс кода"
   ]
  },
  {
   "cell_type": "code",
   "execution_count": 4,
   "metadata": {},
   "outputs": [],
   "source": [
    "from matrix import Matrix\n",
    "import numpy as np\n",
    "\n",
    "def write_matrix_to_file(matrix, filename):\n",
    "    with open(filename, \"w\") as f:\n",
    "        f.write(str(matrix))"
   ]
  },
  {
   "cell_type": "markdown",
   "metadata": {},
   "source": [
    "## 3.1"
   ]
  },
  {
   "cell_type": "code",
   "execution_count": 7,
   "metadata": {},
   "outputs": [
    {
     "name": "stdout",
     "output_type": "stream",
     "text": [
      "Операции выполнены и результаты записаны в файлы matrix+.txt, matrix*.txt, matrix@.txt\n"
     ]
    }
   ],
   "source": [
    "np.random.seed(0)\n",
    "\n",
    "data1 = np.random.randint(0, 10, (10, 10)).tolist()\n",
    "data2 = np.random.randint(0, 10, (10, 10)).tolist()\n",
    "\n",
    "\n",
    "A = Matrix(data1)\n",
    "B = Matrix(data2)\n",
    "\n",
    "# Выполнение операций\n",
    "matrix_add = A + B        # Поэлементное сложение\n",
    "matrix_elem_mul = A * B   # Поэлементное умножение\n",
    "matrix_matmul = A @ B     # Матричное умножение\n",
    "\n",
    "# Запись результатов в файлы\n",
    "write_matrix_to_file(matrix_add, \"artifacts/1/matrix+.txt\")\n",
    "write_matrix_to_file(matrix_elem_mul,\"artifacts/1/matrix*.txt\")\n",
    "write_matrix_to_file(matrix_matmul,\"artifacts/1/matrix@.txt\")\n",
    "\n",
    "print(\"Операции выполнены и результаты записаны в файлы matrix+.txt, matrix*.txt, matrix@.txt\")\n"
   ]
  },
  {
   "cell_type": "markdown",
   "metadata": {},
   "source": [
    "## 3.3"
   ]
  },
  {
   "cell_type": "code",
   "execution_count": null,
   "metadata": {},
   "outputs": [],
   "source": [
    "# Если нет разницы, то зачем делать лишнее (оставил на всякий случай)\n",
    "\n",
    "# def find_collision(matrix, attempts=10000):\n",
    "#     # Будем генерировать случайные 2x2 матрицы с элементами от 0 до 9 и искать ту, у которой hash совпадает с hash(matrix), но матрицы не равны.\n",
    "#     target_hash = hash(matrix)\n",
    "#     for _ in range(attempts):\n",
    "#         data = [[np.random.randint(0, 9) for _ in range(matrix.cols)] for _ in range(matrix.rows)]\n",
    "#         candidate = Matrix(data)\n",
    "#         if hash(candidate) == target_hash and candidate.data != matrix.data:\n",
    "#             return candidate\n",
    "#     return None\n"
   ]
  },
  {
   "cell_type": "code",
   "execution_count": null,
   "metadata": {},
   "outputs": [
    {
     "name": "stdout",
     "output_type": "stream",
     "text": [
      "Артефакты созданы -- A.txt, B.txt, C.txt, D.txt, AB.txt, CD.txt, hash.txt\n"
     ]
    }
   ],
   "source": [
    "# Задаем матрицы A, B, C, D согласно условию:\n",
    "# - A и C – разные, но с одинаковым hash (коллизия).\n",
    "# - B и D – одинаковые.\n",
    "# - При этом A @ B != C @ D (истинное умножение).\n",
    "\n",
    "# Для A: [[1, 2], [3, 4]] → сумма = 10, hash = (10+4)%10 = 14%10 = 4.\n",
    "A_data = [[1, 2], [3, 4]]\n",
    "\n",
    "B_data = [[1, 0], [0, 1]]\n",
    "# C: [[0, 0], [5, 5]] → сумма = 10, hash = (10+4)%10 = 14%10 = 4.\n",
    "C_data = [[0, 0], [5, 5]]\n",
    "# D равна B.\n",
    "D_data = B_data\n",
    "\n",
    "A = Matrix(A_data)\n",
    "B = Matrix(B_data)\n",
    "C = Matrix(C_data)\n",
    "D = Matrix(D_data)\n",
    "\n",
    "# Проверка условий коллизии\n",
    "assert hash(A) == hash(C), \"Хэши матриц A и C не совпадают.\"\n",
    "assert A.data != C.data, \"Матрицы A и C должны быть различны.\"\n",
    "assert B.data == D.data, \"Матрицы B и D должны быть одинаковы.\"\n",
    "\n",
    "# Вычисляем произведение с кешированием (для A @ B)\n",
    "AB = A @ B  # Результат кэшируется под ключом (hash(A), hash(B))\n",
    "# Вычисляем истинное произведение для C @ D без использования кэша\n",
    "CD = C.matmul_nocache(D)\n",
    "\n",
    "# Записываем матрицы в файлы\n",
    "write_matrix_to_file(A, \"artifacts/3/A.txt\")\n",
    "write_matrix_to_file(B, \"artifacts/3/B.txt\")\n",
    "write_matrix_to_file(C, \"artifacts/3/C.txt\")\n",
    "write_matrix_to_file(D, \"artifacts/3/D.txt\")\n",
    "write_matrix_to_file(AB, \"artifacts/3/AB.txt\")\n",
    "write_matrix_to_file(CD, \"artifacts/3/CD.txt\")\n",
    "\n",
    "# Записываем хэши результатов умножения в файл hash.txt\n",
    "with open(\"artifacts/3/hash.txt\", \"w\") as f:\n",
    "    f.write(f\"hash(AB) = {hash(AB)}\\n\")\n",
    "    f.write(f\"hash(CD) = {hash(CD)}\\n\")\n",
    "\n",
    "# Демонстрация поиска коллизии для матрицы A\n",
    "#collision = find_collision(A)\n",
    "#if collision:\n",
    "#    print(\"Найдена коллизия для матрицы A:\")\n",
    "#    print(collision)\n",
    "#else:\n",
    "#    print(\"Коллизия для матрицы A не найдена за заданное число попыток.\")\n",
    "\n",
    "print(\"Артефакты созданы -- A.txt, B.txt, C.txt, D.txt, AB.txt, CD.txt, hash.txt\")"
   ]
  },
  {
   "cell_type": "code",
   "execution_count": null,
   "metadata": {},
   "outputs": [],
   "source": []
  }
 ],
 "metadata": {
  "kernelspec": {
   "display_name": "venv",
   "language": "python",
   "name": "python3"
  },
  "language_info": {
   "codemirror_mode": {
    "name": "ipython",
    "version": 3
   },
   "file_extension": ".py",
   "mimetype": "text/x-python",
   "name": "python",
   "nbconvert_exporter": "python",
   "pygments_lexer": "ipython3",
   "version": "3.10.12"
  }
 },
 "nbformat": 4,
 "nbformat_minor": 2
}
